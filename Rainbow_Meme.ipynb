{
  "nbformat": 4,
  "nbformat_minor": 0,
  "metadata": {
    "colab": {
      "name": "Rainbow-Meme.ipynb",
      "provenance": [],
      "collapsed_sections": [],
      "authorship_tag": "ABX9TyN+KnuxWKxQ/SQCkDm/59zW",
      "include_colab_link": true
    },
    "kernelspec": {
      "name": "python3",
      "display_name": "Python 3"
    },
    "language_info": {
      "name": "python"
    }
  },
  "cells": [
    {
      "cell_type": "markdown",
      "metadata": {
        "id": "view-in-github",
        "colab_type": "text"
      },
      "source": [
        "<a href=\"https://colab.research.google.com/github/Thanat-Music/Rainbow-Meme/blob/main/Rainbow_Meme.ipynb\" target=\"_parent\"><img src=\"https://colab.research.google.com/assets/colab-badge.svg\" alt=\"Open In Colab\"/></a>"
      ]
    },
    {
      "cell_type": "code",
      "source": [
        "import cv2\n",
        "import numpy as np\n",
        "import matplotlib.pyplot as plt\n",
        "from PIL import Image"
      ],
      "metadata": {
        "id": "ysKJhYSXKL_o"
      },
      "execution_count": null,
      "outputs": []
    },
    {
      "cell_type": "code",
      "source": [
        "#import image\n",
        "img=cv2.imread(\"/content/jeff.jpg\")"
      ],
      "metadata": {
        "id": "4J_BODB9LmiV"
      },
      "execution_count": null,
      "outputs": []
    },
    {
      "cell_type": "code",
      "source": [
        "arr=[]\n",
        "# convert bgr to hsv\n",
        "hsv = cv2.cvtColor(img, cv2.COLOR_BGR2HSV)\n",
        "\n",
        "for i in range(11):\n",
        "  hsv_new = hsv.copy()\n",
        "  # modify hue channel by adding difference and modulo 180\n",
        "  hsv_new[:,:,0] = np.mod(hsv[:,:,0] + 15*i, 180).astype(np.uint8)\n",
        "\n",
        "  # convert back to bgr\n",
        "  bgr_new = cv2.cvtColor(hsv_new, cv2.COLOR_HSV2BGR)\n",
        "  arr.append(cv2.cvtColor(bgr_new, cv2.COLOR_BGR2RGB))"
      ],
      "metadata": {
        "id": "epJbuyaJl4DJ"
      },
      "execution_count": 65,
      "outputs": []
    },
    {
      "cell_type": "code",
      "source": [
        "#output gif\n",
        "im = Image.fromarray(np.uint8(cv2.cvtColor(img, cv2.COLOR_BGR2RGB)))\n",
        "arr1 = [Image.fromarray(img) for img in arr]\n",
        "im.save(\"rainbow-jeff.gif\",save_all=True, append_images=arr1, loop=0)"
      ],
      "metadata": {
        "id": "nIG1GXkjPDXa"
      },
      "execution_count": 67,
      "outputs": []
    }
  ]
}